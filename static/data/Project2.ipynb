{
 "cells": [
  {
   "cell_type": "code",
   "execution_count": 4,
   "metadata": {},
   "outputs": [],
   "source": [
    "import pandas as pd\n",
    "from sqlalchemy import create_engine\n",
    "from config import dbuser, dbpasswd, dburi, dbport\n",
    "import pymysql\n",
    "pymysql.install_as_MySQLdb()\n",
    "from sqlalchemy.ext.declarative import declarative_base\n",
    "from sqlalchemy.orm import Session"
   ]
  },
  {
   "cell_type": "markdown",
   "metadata": {},
   "source": [
    "# Cleaning the Data"
   ]
  },
  {
   "cell_type": "markdown",
   "metadata": {},
   "source": [
    "Cleaning the Data"
   ]
  },
  {
   "cell_type": "code",
   "execution_count": 5,
   "metadata": {},
   "outputs": [
    {
     "data": {
      "text/html": [
       "<div>\n",
       "<style scoped>\n",
       "    .dataframe tbody tr th:only-of-type {\n",
       "        vertical-align: middle;\n",
       "    }\n",
       "\n",
       "    .dataframe tbody tr th {\n",
       "        vertical-align: top;\n",
       "    }\n",
       "\n",
       "    .dataframe thead th {\n",
       "        text-align: right;\n",
       "    }\n",
       "</style>\n",
       "<table border=\"1\" class=\"dataframe\">\n",
       "  <thead>\n",
       "    <tr style=\"text-align: right;\">\n",
       "      <th></th>\n",
       "      <th>folio_c</th>\n",
       "      <th>intp</th>\n",
       "      <th>entidad</th>\n",
       "      <th>locali</th>\n",
       "      <th>sexo</th>\n",
       "      <th>edad</th>\n",
       "      <th>code_upm</th>\n",
       "      <th>est_dis</th>\n",
       "      <th>est_urb</th>\n",
       "      <th>est_marg</th>\n",
       "      <th>...</th>\n",
       "      <th>escolari</th>\n",
       "      <th>munici</th>\n",
       "      <th>imc_ob</th>\n",
       "      <th>a1001b</th>\n",
       "      <th>a1002b</th>\n",
       "      <th>a1002bsp</th>\n",
       "      <th>a1005b</th>\n",
       "      <th>a1006b</th>\n",
       "      <th>indicef</th>\n",
       "      <th>region_2</th>\n",
       "    </tr>\n",
       "  </thead>\n",
       "  <tbody>\n",
       "    <tr>\n",
       "      <th>0</th>\n",
       "      <td>1060001</td>\n",
       "      <td>1</td>\n",
       "      <td>1.0</td>\n",
       "      <td>1.0</td>\n",
       "      <td>1.0</td>\n",
       "      <td>42.0</td>\n",
       "      <td>M0101</td>\n",
       "      <td>5.0</td>\n",
       "      <td>3.0</td>\n",
       "      <td>1.0</td>\n",
       "      <td>...</td>\n",
       "      <td>2.0</td>\n",
       "      <td>1.0</td>\n",
       "      <td>3.0</td>\n",
       "      <td>2.0</td>\n",
       "      <td>NaN</td>\n",
       "      <td>NaN</td>\n",
       "      <td>NaN</td>\n",
       "      <td>NaN</td>\n",
       "      <td>3.310654</td>\n",
       "      <td>2.0</td>\n",
       "    </tr>\n",
       "    <tr>\n",
       "      <th>1</th>\n",
       "      <td>1060003</td>\n",
       "      <td>1</td>\n",
       "      <td>NaN</td>\n",
       "      <td>NaN</td>\n",
       "      <td>NaN</td>\n",
       "      <td>NaN</td>\n",
       "      <td>NaN</td>\n",
       "      <td>NaN</td>\n",
       "      <td>NaN</td>\n",
       "      <td>NaN</td>\n",
       "      <td>...</td>\n",
       "      <td>NaN</td>\n",
       "      <td>NaN</td>\n",
       "      <td>NaN</td>\n",
       "      <td>NaN</td>\n",
       "      <td>NaN</td>\n",
       "      <td>NaN</td>\n",
       "      <td>NaN</td>\n",
       "      <td>NaN</td>\n",
       "      <td>3.310654</td>\n",
       "      <td>NaN</td>\n",
       "    </tr>\n",
       "    <tr>\n",
       "      <th>2</th>\n",
       "      <td>1060005</td>\n",
       "      <td>1</td>\n",
       "      <td>NaN</td>\n",
       "      <td>NaN</td>\n",
       "      <td>NaN</td>\n",
       "      <td>NaN</td>\n",
       "      <td>NaN</td>\n",
       "      <td>NaN</td>\n",
       "      <td>NaN</td>\n",
       "      <td>NaN</td>\n",
       "      <td>...</td>\n",
       "      <td>NaN</td>\n",
       "      <td>NaN</td>\n",
       "      <td>NaN</td>\n",
       "      <td>NaN</td>\n",
       "      <td>NaN</td>\n",
       "      <td>NaN</td>\n",
       "      <td>NaN</td>\n",
       "      <td>NaN</td>\n",
       "      <td>2.397098</td>\n",
       "      <td>NaN</td>\n",
       "    </tr>\n",
       "    <tr>\n",
       "      <th>3</th>\n",
       "      <td>1060006</td>\n",
       "      <td>2</td>\n",
       "      <td>NaN</td>\n",
       "      <td>NaN</td>\n",
       "      <td>NaN</td>\n",
       "      <td>NaN</td>\n",
       "      <td>NaN</td>\n",
       "      <td>NaN</td>\n",
       "      <td>NaN</td>\n",
       "      <td>NaN</td>\n",
       "      <td>...</td>\n",
       "      <td>NaN</td>\n",
       "      <td>NaN</td>\n",
       "      <td>NaN</td>\n",
       "      <td>NaN</td>\n",
       "      <td>NaN</td>\n",
       "      <td>NaN</td>\n",
       "      <td>NaN</td>\n",
       "      <td>NaN</td>\n",
       "      <td>2.397098</td>\n",
       "      <td>NaN</td>\n",
       "    </tr>\n",
       "    <tr>\n",
       "      <th>4</th>\n",
       "      <td>1060007</td>\n",
       "      <td>1</td>\n",
       "      <td>NaN</td>\n",
       "      <td>NaN</td>\n",
       "      <td>NaN</td>\n",
       "      <td>NaN</td>\n",
       "      <td>NaN</td>\n",
       "      <td>NaN</td>\n",
       "      <td>NaN</td>\n",
       "      <td>NaN</td>\n",
       "      <td>...</td>\n",
       "      <td>NaN</td>\n",
       "      <td>NaN</td>\n",
       "      <td>NaN</td>\n",
       "      <td>NaN</td>\n",
       "      <td>NaN</td>\n",
       "      <td>NaN</td>\n",
       "      <td>NaN</td>\n",
       "      <td>NaN</td>\n",
       "      <td>1.644975</td>\n",
       "      <td>NaN</td>\n",
       "    </tr>\n",
       "  </tbody>\n",
       "</table>\n",
       "<p>5 rows × 37 columns</p>\n",
       "</div>"
      ],
      "text/plain": [
       "   folio_c  intp  entidad  locali  sexo  edad code_upm  est_dis  est_urb  \\\n",
       "0  1060001     1      1.0     1.0   1.0  42.0    M0101      5.0      3.0   \n",
       "1  1060003     1      NaN     NaN   NaN   NaN      NaN      NaN      NaN   \n",
       "2  1060005     1      NaN     NaN   NaN   NaN      NaN      NaN      NaN   \n",
       "3  1060006     2      NaN     NaN   NaN   NaN      NaN      NaN      NaN   \n",
       "4  1060007     1      NaN     NaN   NaN   NaN      NaN      NaN      NaN   \n",
       "\n",
       "   est_marg    ...     escolari  munici  imc_ob  a1001b  a1002b  a1002bsp  \\\n",
       "0       1.0    ...          2.0     1.0     3.0     2.0     NaN       NaN   \n",
       "1       NaN    ...          NaN     NaN     NaN     NaN     NaN       NaN   \n",
       "2       NaN    ...          NaN     NaN     NaN     NaN     NaN       NaN   \n",
       "3       NaN    ...          NaN     NaN     NaN     NaN     NaN       NaN   \n",
       "4       NaN    ...          NaN     NaN     NaN     NaN     NaN       NaN   \n",
       "\n",
       "   a1005b  a1006b   indicef  region_2  \n",
       "0     NaN     NaN  3.310654       2.0  \n",
       "1     NaN     NaN  3.310654       NaN  \n",
       "2     NaN     NaN  2.397098       NaN  \n",
       "3     NaN     NaN  2.397098       NaN  \n",
       "4     NaN     NaN  1.644975       NaN  \n",
       "\n",
       "[5 rows x 37 columns]"
      ]
     },
     "execution_count": 5,
     "metadata": {},
     "output_type": "execute_result"
    }
   ],
   "source": [
    "# The path to our CSV file\n",
    "file = \"Sobrepeso_Obesidad_Adulta.csv\"\n",
    "\n",
    "# Read our Kickstarter data into pandas\n",
    "database = pd.read_csv(file, encoding=\"ISO-8859-1\")\n",
    "database.head()"
   ]
  },
  {
   "cell_type": "code",
   "execution_count": 6,
   "metadata": {},
   "outputs": [
    {
     "data": {
      "text/plain": [
       "Index(['folio_c', 'intp', 'entidad', 'locali', 'sexo', 'edad', 'code_upm',\n",
       "       'est_dis', 'est_urb', 'est_marg', 'pondef', 'est_var', 'peso', 'talla',\n",
       "       'imc', 'imc_cat', 'edad_cat', 'ccintura', 'ob_abd', 'nsef', 'nse5f',\n",
       "       'nse10f', 'area', 's_salud', 'region', 'afilia_1', 'afilia2',\n",
       "       'escolari', 'munici', 'imc_ob', 'a1001b', 'a1002b', 'a1002bsp',\n",
       "       'a1005b', 'a1006b', 'indicef', 'region_2'],\n",
       "      dtype='object')"
      ]
     },
     "execution_count": 6,
     "metadata": {},
     "output_type": "execute_result"
    }
   ],
   "source": [
    "database.columns"
   ]
  },
  {
   "cell_type": "code",
   "execution_count": 7,
   "metadata": {},
   "outputs": [
    {
     "data": {
      "text/html": [
       "<div>\n",
       "<style scoped>\n",
       "    .dataframe tbody tr th:only-of-type {\n",
       "        vertical-align: middle;\n",
       "    }\n",
       "\n",
       "    .dataframe tbody tr th {\n",
       "        vertical-align: top;\n",
       "    }\n",
       "\n",
       "    .dataframe thead th {\n",
       "        text-align: right;\n",
       "    }\n",
       "</style>\n",
       "<table border=\"1\" class=\"dataframe\">\n",
       "  <thead>\n",
       "    <tr style=\"text-align: right;\">\n",
       "      <th></th>\n",
       "      <th>folio_c</th>\n",
       "      <th>intp</th>\n",
       "      <th>entidad</th>\n",
       "      <th>sexo</th>\n",
       "      <th>edad</th>\n",
       "      <th>peso</th>\n",
       "      <th>talla</th>\n",
       "      <th>imc</th>\n",
       "      <th>imc_cat</th>\n",
       "      <th>edad_cat</th>\n",
       "      <th>ob_abd</th>\n",
       "    </tr>\n",
       "  </thead>\n",
       "  <tbody>\n",
       "    <tr>\n",
       "      <th>0</th>\n",
       "      <td>1060001</td>\n",
       "      <td>1</td>\n",
       "      <td>1.0</td>\n",
       "      <td>1.0</td>\n",
       "      <td>42.0</td>\n",
       "      <td>75.0</td>\n",
       "      <td>166.550003</td>\n",
       "      <td>27.03784</td>\n",
       "      <td>3.0</td>\n",
       "      <td>3.0</td>\n",
       "      <td>1.0</td>\n",
       "    </tr>\n",
       "    <tr>\n",
       "      <th>1</th>\n",
       "      <td>1060003</td>\n",
       "      <td>1</td>\n",
       "      <td>NaN</td>\n",
       "      <td>NaN</td>\n",
       "      <td>NaN</td>\n",
       "      <td>NaN</td>\n",
       "      <td>NaN</td>\n",
       "      <td>NaN</td>\n",
       "      <td>NaN</td>\n",
       "      <td>NaN</td>\n",
       "      <td>NaN</td>\n",
       "    </tr>\n",
       "    <tr>\n",
       "      <th>2</th>\n",
       "      <td>1060005</td>\n",
       "      <td>1</td>\n",
       "      <td>NaN</td>\n",
       "      <td>NaN</td>\n",
       "      <td>NaN</td>\n",
       "      <td>NaN</td>\n",
       "      <td>NaN</td>\n",
       "      <td>NaN</td>\n",
       "      <td>NaN</td>\n",
       "      <td>NaN</td>\n",
       "      <td>NaN</td>\n",
       "    </tr>\n",
       "    <tr>\n",
       "      <th>3</th>\n",
       "      <td>1060006</td>\n",
       "      <td>2</td>\n",
       "      <td>NaN</td>\n",
       "      <td>NaN</td>\n",
       "      <td>NaN</td>\n",
       "      <td>NaN</td>\n",
       "      <td>NaN</td>\n",
       "      <td>NaN</td>\n",
       "      <td>NaN</td>\n",
       "      <td>NaN</td>\n",
       "      <td>NaN</td>\n",
       "    </tr>\n",
       "    <tr>\n",
       "      <th>4</th>\n",
       "      <td>1060007</td>\n",
       "      <td>1</td>\n",
       "      <td>NaN</td>\n",
       "      <td>NaN</td>\n",
       "      <td>NaN</td>\n",
       "      <td>NaN</td>\n",
       "      <td>NaN</td>\n",
       "      <td>NaN</td>\n",
       "      <td>NaN</td>\n",
       "      <td>NaN</td>\n",
       "      <td>NaN</td>\n",
       "    </tr>\n",
       "  </tbody>\n",
       "</table>\n",
       "</div>"
      ],
      "text/plain": [
       "   folio_c  intp  entidad  sexo  edad  peso       talla       imc  imc_cat  \\\n",
       "0  1060001     1      1.0   1.0  42.0  75.0  166.550003  27.03784      3.0   \n",
       "1  1060003     1      NaN   NaN   NaN   NaN         NaN       NaN      NaN   \n",
       "2  1060005     1      NaN   NaN   NaN   NaN         NaN       NaN      NaN   \n",
       "3  1060006     2      NaN   NaN   NaN   NaN         NaN       NaN      NaN   \n",
       "4  1060007     1      NaN   NaN   NaN   NaN         NaN       NaN      NaN   \n",
       "\n",
       "   edad_cat  ob_abd  \n",
       "0       3.0     1.0  \n",
       "1       NaN     NaN  \n",
       "2       NaN     NaN  \n",
       "3       NaN     NaN  \n",
       "4       NaN     NaN  "
      ]
     },
     "execution_count": 7,
     "metadata": {},
     "output_type": "execute_result"
    }
   ],
   "source": [
    "sobrepeso = database.loc[:,[\"folio_c\", \"intp\", \"entidad\", \"sexo\", \"edad\", \"peso\", \"talla\", \"imc\", \"imc_cat\", \n",
    "                            \"edad_cat\", \"ob_abd\"]]\n",
    "sobrepeso.head()"
   ]
  },
  {
   "cell_type": "code",
   "execution_count": 8,
   "metadata": {},
   "outputs": [
    {
     "data": {
      "text/plain": [
       "folio_c     50756\n",
       "intp        50756\n",
       "entidad     41572\n",
       "sexo        41572\n",
       "edad        41572\n",
       "peso        38267\n",
       "talla       38218\n",
       "imc         37580\n",
       "imc_cat     37580\n",
       "edad_cat    41572\n",
       "ob_abd      36820\n",
       "dtype: int64"
      ]
     },
     "execution_count": 8,
     "metadata": {},
     "output_type": "execute_result"
    }
   ],
   "source": [
    "sobrepeso.count()"
   ]
  },
  {
   "cell_type": "code",
   "execution_count": 12,
   "metadata": {},
   "outputs": [
    {
     "data": {
      "text/html": [
       "<div>\n",
       "<style scoped>\n",
       "    .dataframe tbody tr th:only-of-type {\n",
       "        vertical-align: middle;\n",
       "    }\n",
       "\n",
       "    .dataframe tbody tr th {\n",
       "        vertical-align: top;\n",
       "    }\n",
       "\n",
       "    .dataframe thead th {\n",
       "        text-align: right;\n",
       "    }\n",
       "</style>\n",
       "<table border=\"1\" class=\"dataframe\">\n",
       "  <thead>\n",
       "    <tr style=\"text-align: right;\">\n",
       "      <th></th>\n",
       "      <th>folio_c</th>\n",
       "      <th>intp</th>\n",
       "      <th>entidad</th>\n",
       "      <th>sexo</th>\n",
       "      <th>edad</th>\n",
       "      <th>peso</th>\n",
       "      <th>talla</th>\n",
       "      <th>imc</th>\n",
       "      <th>imc_cat</th>\n",
       "      <th>edad_cat</th>\n",
       "      <th>ob_abd</th>\n",
       "    </tr>\n",
       "  </thead>\n",
       "  <tbody>\n",
       "    <tr>\n",
       "      <th>0</th>\n",
       "      <td>1060001</td>\n",
       "      <td>1</td>\n",
       "      <td>1.0</td>\n",
       "      <td>1.0</td>\n",
       "      <td>42.0</td>\n",
       "      <td>75.000000</td>\n",
       "      <td>166.550003</td>\n",
       "      <td>27.037840</td>\n",
       "      <td>3.0</td>\n",
       "      <td>3.0</td>\n",
       "      <td>1.0</td>\n",
       "    </tr>\n",
       "    <tr>\n",
       "      <th>6</th>\n",
       "      <td>1060008</td>\n",
       "      <td>1</td>\n",
       "      <td>1.0</td>\n",
       "      <td>2.0</td>\n",
       "      <td>36.0</td>\n",
       "      <td>62.299999</td>\n",
       "      <td>148.250000</td>\n",
       "      <td>28.346445</td>\n",
       "      <td>3.0</td>\n",
       "      <td>2.0</td>\n",
       "      <td>1.0</td>\n",
       "    </tr>\n",
       "    <tr>\n",
       "      <th>12</th>\n",
       "      <td>1060015</td>\n",
       "      <td>1</td>\n",
       "      <td>1.0</td>\n",
       "      <td>1.0</td>\n",
       "      <td>35.0</td>\n",
       "      <td>87.400002</td>\n",
       "      <td>168.899994</td>\n",
       "      <td>30.637419</td>\n",
       "      <td>4.0</td>\n",
       "      <td>2.0</td>\n",
       "      <td>1.0</td>\n",
       "    </tr>\n",
       "    <tr>\n",
       "      <th>14</th>\n",
       "      <td>1060021</td>\n",
       "      <td>2</td>\n",
       "      <td>1.0</td>\n",
       "      <td>2.0</td>\n",
       "      <td>48.0</td>\n",
       "      <td>54.599998</td>\n",
       "      <td>157.800003</td>\n",
       "      <td>21.926970</td>\n",
       "      <td>2.0</td>\n",
       "      <td>3.0</td>\n",
       "      <td>0.0</td>\n",
       "    </tr>\n",
       "    <tr>\n",
       "      <th>19</th>\n",
       "      <td>1060031</td>\n",
       "      <td>4</td>\n",
       "      <td>1.0</td>\n",
       "      <td>2.0</td>\n",
       "      <td>22.0</td>\n",
       "      <td>52.650002</td>\n",
       "      <td>163.750000</td>\n",
       "      <td>19.635220</td>\n",
       "      <td>2.0</td>\n",
       "      <td>1.0</td>\n",
       "      <td>0.0</td>\n",
       "    </tr>\n",
       "  </tbody>\n",
       "</table>\n",
       "</div>"
      ],
      "text/plain": [
       "    folio_c  intp  entidad  sexo  edad       peso       talla        imc  \\\n",
       "0   1060001     1      1.0   1.0  42.0  75.000000  166.550003  27.037840   \n",
       "6   1060008     1      1.0   2.0  36.0  62.299999  148.250000  28.346445   \n",
       "12  1060015     1      1.0   1.0  35.0  87.400002  168.899994  30.637419   \n",
       "14  1060021     2      1.0   2.0  48.0  54.599998  157.800003  21.926970   \n",
       "19  1060031     4      1.0   2.0  22.0  52.650002  163.750000  19.635220   \n",
       "\n",
       "    imc_cat  edad_cat  ob_abd  \n",
       "0       3.0       3.0     1.0  \n",
       "6       3.0       2.0     1.0  \n",
       "12      4.0       2.0     1.0  \n",
       "14      2.0       3.0     0.0  \n",
       "19      2.0       1.0     0.0  "
      ]
     },
     "execution_count": 12,
     "metadata": {},
     "output_type": "execute_result"
    }
   ],
   "source": [
    "sobrepeso = sobrepeso.dropna(how='any')\n",
    "sobrepeso.head()"
   ]
  },
  {
   "cell_type": "code",
   "execution_count": 13,
   "metadata": {},
   "outputs": [
    {
     "data": {
      "text/plain": [
       "folio_c     36675\n",
       "intp        36675\n",
       "entidad     36675\n",
       "sexo        36675\n",
       "edad        36675\n",
       "peso        36675\n",
       "talla       36675\n",
       "imc         36675\n",
       "imc_cat     36675\n",
       "edad_cat    36675\n",
       "ob_abd      36675\n",
       "dtype: int64"
      ]
     },
     "execution_count": 13,
     "metadata": {},
     "output_type": "execute_result"
    }
   ],
   "source": [
    "sobrepeso.count()"
   ]
  },
  {
   "cell_type": "markdown",
   "metadata": {},
   "source": [
    "# Uploading into MySQL"
   ]
  },
  {
   "cell_type": "code",
   "execution_count": 14,
   "metadata": {},
   "outputs": [],
   "source": [
    "Base = declarative_base()"
   ]
  },
  {
   "cell_type": "code",
   "execution_count": 16,
   "metadata": {},
   "outputs": [
    {
     "name": "stderr",
     "output_type": "stream",
     "text": [
      "C:\\Users\\maluk\\Anaconda3\\envs\\malucastellanos\\lib\\site-packages\\pymysql\\cursors.py:170: Warning: (1366, \"Incorrect string value: '\\\\xE1ndar ...' for column 'VARIABLE_VALUE' at row 484\")\n",
      "  result = self._query(query)\n"
     ]
    }
   ],
   "source": [
    "engine = create_engine(f\"mysql://{dbuser}:{dbpasswd}@{dburi}:{dbport}/sobrepeso_mexico_db\")\n",
    "Base.metadata.create_all(engine)"
   ]
  },
  {
   "cell_type": "code",
   "execution_count": 17,
   "metadata": {},
   "outputs": [],
   "source": [
    "sobrepeso.to_sql(name='sobrepeso', con=engine, if_exists='append', index=True)"
   ]
  },
  {
   "cell_type": "code",
   "execution_count": 18,
   "metadata": {},
   "outputs": [
    {
     "data": {
      "text/plain": [
       "['sobrepeso']"
      ]
     },
     "execution_count": 18,
     "metadata": {},
     "output_type": "execute_result"
    }
   ],
   "source": [
    "engine.table_names()"
   ]
  },
  {
   "cell_type": "code",
   "execution_count": 19,
   "metadata": {},
   "outputs": [
    {
     "name": "stdout",
     "output_type": "stream",
     "text": [
      "(0, 1060001, 1, 1.0, 1.0, 42.0, 75.0, 166.5500031, 27.03783989, 3.0, 3.0, 1.0)\n",
      "(6, 1060008, 1, 1.0, 2.0, 36.0, 62.29999924, 148.25, 28.34644508, 3.0, 2.0, 1.0)\n",
      "(12, 1060015, 1, 1.0, 1.0, 35.0, 87.40000153, 168.8999939, 30.63741875, 4.0, 2.0, 1.0)\n",
      "(14, 1060021, 2, 1.0, 2.0, 48.0, 54.59999847, 157.8000031, 21.92696953, 2.0, 3.0, 0.0)\n",
      "(19, 1060031, 4, 1.0, 2.0, 22.0, 52.65000153, 163.75, 19.63521957, 2.0, 1.0, 0.0)\n",
      "(20, 1060032, 2, 1.0, 2.0, 54.0, 57.59999847, 144.0, 27.77777672, 3.0, 4.0, 1.0)\n",
      "(21, 1060033, 2, 1.0, 2.0, 35.0, 69.25, 156.3000031, 28.34665489, 3.0, 2.0, 1.0)\n",
      "(22, 1060034, 6, 1.0, 1.0, 20.0, 55.40000153, 176.0500031, 17.87465668, 1.0, 1.0, 0.0)\n",
      "(25, 1060037, 3, 1.0, 2.0, 24.0, 66.80000305, 153.6999969, 28.27670288, 3.0, 1.0, 1.0)\n",
      "(27, 1060039, 1, 1.0, 1.0, 60.0, 67.90000153, 171.3999939, 23.11256599, 2.0, 5.0, 0.0)\n"
     ]
    }
   ],
   "source": [
    "data=engine.execute('SELECT * FROM sobrepeso limit 10')\n",
    "for row in data:\n",
    "    print(row)"
   ]
  },
  {
   "cell_type": "code",
   "execution_count": null,
   "metadata": {},
   "outputs": [],
   "source": []
  }
 ],
 "metadata": {
  "kernelspec": {
   "display_name": "Python 3",
   "language": "python",
   "name": "python3"
  },
  "language_info": {
   "codemirror_mode": {
    "name": "ipython",
    "version": 3
   },
   "file_extension": ".py",
   "mimetype": "text/x-python",
   "name": "python",
   "nbconvert_exporter": "python",
   "pygments_lexer": "ipython3",
   "version": "3.6.7"
  }
 },
 "nbformat": 4,
 "nbformat_minor": 2
}
